{
 "cells": [
  {
   "cell_type": "code",
   "execution_count": 1,
   "id": "47d56a4c",
   "metadata": {},
   "outputs": [
    {
     "name": "stdout",
     "output_type": "stream",
     "text": [
      "Generated Password: V%/_IYV;zu$`17>*\n"
     ]
    }
   ],
   "source": [
    "import random\n",
    "import string\n",
    "\n",
    "def generate_password(length=12, include_lowercase=True, include_uppercase=True, include_digits=True, include_special_chars=True):\n",
    "    characters = ''\n",
    "\n",
    "    if include_lowercase:\n",
    "        characters += string.ascii_lowercase\n",
    "    if include_uppercase:\n",
    "        characters += string.ascii_uppercase\n",
    "    if include_digits:\n",
    "        characters += string.digits\n",
    "    if include_special_chars:\n",
    "        characters += string.punctuation\n",
    "\n",
    "    if not any([include_lowercase, include_uppercase, include_digits, include_special_chars]):\n",
    "        print(\"Error: At least one character set must be included.\")\n",
    "        return None\n",
    "\n",
    "    password = ''.join(random.choice(characters) for _ in range(length))\n",
    "    return password\n",
    "\n",
    "# Example usage:\n",
    "password = generate_password(length=16, include_lowercase=True, include_uppercase=True, include_digits=True, include_special_chars=True)\n",
    "print(\"Generated Password:\", password)\n"
   ]
  },
  {
   "cell_type": "code",
   "execution_count": null,
   "id": "85f1baaf",
   "metadata": {},
   "outputs": [],
   "source": []
  }
 ],
 "metadata": {
  "kernelspec": {
   "display_name": "Python 3 (ipykernel)",
   "language": "python",
   "name": "python3"
  },
  "language_info": {
   "codemirror_mode": {
    "name": "ipython",
    "version": 3
   },
   "file_extension": ".py",
   "mimetype": "text/x-python",
   "name": "python",
   "nbconvert_exporter": "python",
   "pygments_lexer": "ipython3",
   "version": "3.10.9"
  }
 },
 "nbformat": 4,
 "nbformat_minor": 5
}
